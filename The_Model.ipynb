{
  "nbformat": 4,
  "nbformat_minor": 0,
  "metadata": {
    "colab": {
      "name": "The_Model.ipynb",
      "provenance": [],
      "collapsed_sections": []
    },
    "kernelspec": {
      "name": "python3",
      "display_name": "Python 3"
    }
  },
  "cells": [
    {
      "cell_type": "markdown",
      "metadata": {
        "id": "bU-TRF6DsAJw"
      },
      "source": [
        "# **Importing The Essential Libraries**\r\n",
        "We will be using **Artificial Neural Networks** in this project and tune the parameters as we go along the **scenarios** in order to come up with the most optimal model, with the highest validation accuracy derived from a **train-test split** from the training set. I have imported \r\n",
        "\r\n",
        "| Library      | Usage |\r\n",
        "| ----------- | ----------- |\r\n",
        "| TensorFlow     | To work with neural networks       |\r\n",
        "| NumPy   | To work with arrays        |\r\n",
        "| Pandas   | To extract the data from the dataset        |\r\n",
        "| MatPlotLib   | To plot the performance of the model        |"
      ]
    },
    {
      "cell_type": "code",
      "metadata": {
        "id": "4M7yH_uptbRx"
      },
      "source": [
        "import tensorflow as tf\r\n",
        "import numpy as np\r\n",
        "import pandas as pd\r\n",
        "import matplotlib.pyplot as plt"
      ],
      "execution_count": 1,
      "outputs": []
    },
    {
      "cell_type": "markdown",
      "metadata": {
        "id": "UXxYTpYmpnrR"
      },
      "source": [
        "# **How I Will Approach This Problem**\r\n",
        "On reading the description, it is very clear that we must predict who are the **people most likely to survive**. And we are given these variables.\r\n",
        "\r\n",
        "## Dependent Variables\r\n",
        "\r\n",
        "* Passenger Id\r\n",
        "* A proxy for socio-economic status (SES) (class)\r\n",
        "* Name\r\n",
        "* Sex\r\n",
        "* Age\r\n",
        "* Traveled with  sibling or spouse\r\n",
        "* Traveled with  parent or child\r\n",
        "* Ticket\r\n",
        "* Fair\r\n",
        "* Cabin No.\r\n",
        "* Embarked\r\n",
        "\r\n",
        "# Independent Variable\r\n",
        "* Survived\r\n",
        "\r\n",
        "\r\n",
        "\r\n",
        "### Here are the **dependent** variables I think are necessary.\r\n",
        "* Passenger Id\r\n",
        "* A proxy for socio-economic status (SES) (class)\r\n",
        "* Sex\r\n",
        "* Age\r\n",
        "* Traveled with  sibling or spouse\r\n",
        "* Traveled with  parent or child\r\n",
        "* Cabin No."
      ]
    },
    {
      "cell_type": "markdown",
      "metadata": {
        "id": "YzYv5Cdytux1"
      },
      "source": [
        "# **About The Data**\r\n",
        "Now that we have mentioned the approach that we would be taking in order for me to get the most optimal result, now let me explain how we would interpret the data. Firstly, let's get the data from the directory."
      ]
    },
    {
      "cell_type": "code",
      "metadata": {
        "id": "JSWiV2Xmuc14"
      },
      "source": [
        "dataset = pd.read_csv(\"train.csv\")"
      ],
      "execution_count": 2,
      "outputs": []
    },
    {
      "cell_type": "markdown",
      "metadata": {
        "id": "ug5B3oZBulG7"
      },
      "source": [
        "Now that we have the data, let's preprocess the data into something that can be fed into a neural network. Remember, it is very important to scale the data before feeding the data into the network."
      ]
    },
    {
      "cell_type": "markdown",
      "metadata": {
        "id": "k4AlQNVQxeLJ"
      },
      "source": [
        "## Extracting All The Specific Data Fields"
      ]
    },
    {
      "cell_type": "code",
      "metadata": {
        "id": "CLx3bVp8xmsi"
      },
      "source": [
        "# All are type NumPy array (_s1 means scenario 1 or A)\r\n",
        "passenger_id_s1 = dataset[\"PassengerId\"].values\r\n",
        "p_class_s1 = dataset[\"Pclass\"].values\r\n",
        "sex_s1 = dataset[\"Sex\"].values\r\n",
        "age_s1 = dataset[\"Age\"].values\r\n",
        "sib_sp_s1 = dataset[\"SibSp\"].values\r\n",
        "par_ch_s1 = dataset[\"Parch\"].values\r\n",
        "cabin_no_s1 = dataset[\"Cabin\"].values"
      ],
      "execution_count": 3,
      "outputs": []
    },
    {
      "cell_type": "markdown",
      "metadata": {
        "id": "PUw2Sor_vAAp"
      },
      "source": [
        "## Data Preprocessing\r\n",
        "As discussed earlier, here are the variables I think are necessary:\r\n",
        "* Passenger Id\r\n",
        "* A proxy for socio-economic status (SES) (class)\r\n",
        "* Sex\r\n",
        "* Age\r\n",
        "* Traveled with  sibling or spouse\r\n",
        "* Traveled with  parent or child\r\n",
        "* Cabin No.\r\n",
        "\r\n",
        "Now let's discuss how we are going to convert the data into a more optimal format for the neural network.\r\n",
        "\r\n",
        "\r\n",
        "---\r\n",
        "\r\n",
        "1. Passenger Id (int): No change required.\r\n",
        "2. Class (int): No change required.\r\n",
        "3. Sex (String): **Encoding** required.\r\n",
        "4. Age (float): No change required.\r\n",
        "5. Traveled with sibling or spouse (bool): No change required.\r\n",
        "6. Traveled with parent or child (bool): No change required.\r\n",
        "7. Cabin No (String): **Encoding** required.\r\n",
        "\r\n",
        "Let's execute this procedure step by step. But before we do, there are some libraries that have not been imported yet. Let's do that now."
      ]
    },
    {
      "cell_type": "code",
      "metadata": {
        "id": "4arPbCiFxGgj"
      },
      "source": [
        "from sklearn.preprocessing import LabelEncoder # The Encoder\r\n",
        "from sklearn.impute import SimpleImputer # Imputer"
      ],
      "execution_count": 4,
      "outputs": []
    },
    {
      "cell_type": "markdown",
      "metadata": {
        "id": "ApHeO70V1EB3"
      },
      "source": [
        "> The Imputer was imported as some values are N/A. These values will be replaced by an ***XXX***.\r\n",
        "\r\n",
        "> Age recieved it's own imputer as some values were **nan** in the dataset. These values will be replaced with a **median** value.\r\n",
        "\r\n",
        "> Cabin No was also given an imputer & an encoder.\r\n",
        "\r\n",
        "Now let's execute"
      ]
    },
    {
      "cell_type": "code",
      "metadata": {
        "id": "AOtDdMhi1Ji4"
      },
      "source": [
        "# Encoding the Sex\r\n",
        "lbl_encoder_s1 = LabelEncoder()\r\n",
        "sex_s1 = lbl_encoder_s1.fit_transform(sex_s1)\r\n",
        "# Imputing the missing values\r\n",
        "cabin_no_s1 = cabin_no_s1.reshape(-1, 1)\r\n",
        "imputer_s1 = SimpleImputer(strategy = \"constant\", fill_value = \"XXX\")\r\n",
        "imputer_age_s1 = SimpleImputer(strategy=\"median\")\r\n",
        "cabin_no_s1 = imputer_s1.fit_transform(cabin_no_s1)\r\n",
        "age_s1 = imputer_age_s1.fit_transform(age_s1.reshape(-1, 1))\r\n",
        "# Encoding & Imputing the Cabin No\r\n",
        "lbl_encoder_cabin_no_s1 = LabelEncoder()\r\n",
        "impute_cabin_no_s1 = SimpleImputer(strategy = \"constant\", fill_value = \"XXX\")\r\n",
        "cabin_no_s1 = impute_cabin_no_s1.fit_transform(cabin_no_s1)\r\n",
        "cabin_no_s1 = lbl_encoder_cabin_no_s1.fit_transform(cabin_no_s1.ravel())"
      ],
      "execution_count": 5,
      "outputs": []
    },
    {
      "cell_type": "markdown",
      "metadata": {
        "id": "Jet1mK_m8ZQt"
      },
      "source": [
        "### Scaling\r\n",
        "Using the **Standard Scaler** method from the SkLearn library I can standardize all the values in order for it to be uniform, normalized for it to be more optimal when fed into the neural network. Before scaling we must combine all the NumPy arrays into one single array.\r\n",
        "\r\n",
        "\r\n",
        "\r\n"
      ]
    },
    {
      "cell_type": "code",
      "metadata": {
        "id": "1Qh4PoG49idi"
      },
      "source": [
        "# Reshaping\r\n",
        "passenger_id_s1 = passenger_id_s1.reshape(-1, 1)\r\n",
        "p_class_s1 = p_class_s1.reshape(-1, 1)\r\n",
        "sex_s1 = sex_s1.reshape(-1, 1)\r\n",
        "age_s1 = age_s1.reshape(-1, 1)\r\n",
        "sib_sp_s1 = sib_sp_s1.reshape(-1, 1)\r\n",
        "par_ch_s1 = par_ch_s1.reshape(-1, 1)\r\n",
        "cabin_no_s1 = cabin_no_s1.reshape(-1, 1)\r\n",
        "# Merging \r\n",
        "input_s1 = np.concatenate((passenger_id_s1, p_class_s1, sex_s1, age_s1, sib_sp_s1, par_ch_s1, cabin_no_s1), axis=1)"
      ],
      "execution_count": 6,
      "outputs": []
    },
    {
      "cell_type": "code",
      "metadata": {
        "id": "EUyus0Rg9G_2"
      },
      "source": [
        "# Importing the Scaler\r\n",
        "from sklearn.preprocessing import StandardScaler\r\n",
        "scaler_s1 = StandardScaler()\r\n",
        "input_s1 = scaler_s1.fit_transform(input_s1)"
      ],
      "execution_count": 7,
      "outputs": []
    },
    {
      "cell_type": "markdown",
      "metadata": {
        "id": "GteUnp8lG9a7"
      },
      "source": [
        "# **Finalizing The Dependent & Independent Values**"
      ]
    },
    {
      "cell_type": "markdown",
      "metadata": {
        "id": "fOG2s3LaHGvL"
      },
      "source": [
        "## Declaring the dependent & independent values"
      ]
    },
    {
      "cell_type": "code",
      "metadata": {
        "id": "wkTlUIlDHLer"
      },
      "source": [
        "dep_input_s1 = input_s1\r\n",
        "indep_input_s1 = dataset['Survived'].values.reshape(-1, 1)"
      ],
      "execution_count": 8,
      "outputs": []
    },
    {
      "cell_type": "markdown",
      "metadata": {
        "id": "N3mZjF-RI98-"
      },
      "source": [
        "## Splitting the data into the training & test set\r\n",
        "As this data doesn't have any validation set, we will be splitting the data into the **training** and **test** set to evaluate its accuracy. The library to do this is the train_test_split. As the data contains **831 values**, I will split the test size to be about 200 which is roughly **24%**."
      ]
    },
    {
      "cell_type": "code",
      "metadata": {
        "id": "_xO9shMKJceo"
      },
      "source": [
        "from sklearn.model_selection import train_test_split\r\n",
        "X_train, X_test, y_train, y_test = train_test_split(dep_input_s1, indep_input_s1, test_size=0.24)"
      ],
      "execution_count": 9,
      "outputs": []
    },
    {
      "cell_type": "markdown",
      "metadata": {
        "id": "TAID7wHwFnqs"
      },
      "source": [
        "# **The Neural Network**\r\n",
        "In this section, we will be looking at the architecture of the neural network used to derive a prediction based on input data. We will also do **parameter tuning** to further enhance our accuracy throughout the project."
      ]
    },
    {
      "cell_type": "markdown",
      "metadata": {
        "id": "TwvRoCzrGe8M"
      },
      "source": [
        "## Initializing the neural network"
      ]
    },
    {
      "cell_type": "code",
      "metadata": {
        "id": "wD9vsZT9GdsH"
      },
      "source": [
        "nn = tf.keras.models.Sequential()"
      ],
      "execution_count": 10,
      "outputs": []
    },
    {
      "cell_type": "markdown",
      "metadata": {
        "id": "V-JWY4oKGqPw"
      },
      "source": [
        "## The fully connected layers"
      ]
    },
    {
      "cell_type": "code",
      "metadata": {
        "id": "zCQG49AxGugW"
      },
      "source": [
        "nn.add(tf.keras.layers.Dense(units=480, activation='relu'))\r\n",
        "nn.add(tf.keras.layers.Dense(units=240, activation='relu'))\r\n",
        "nn.add(tf.keras.layers.Dense(units=120, activation='relu'))\r\n",
        "nn.add(tf.keras.layers.Dense(units=60, activation='relu'))\r\n",
        "nn.add(tf.keras.layers.Dense(units=30, activation='relu'))\r\n",
        "nn.add(tf.keras.layers.Dense(units=15, activation='relu'))\r\n",
        "nn.add(tf.keras.layers.Dense(units=8, activation='relu'))\r\n",
        "nn.add(tf.keras.layers.Dense(units=1, activation='sigmoid'))"
      ],
      "execution_count": 11,
      "outputs": []
    },
    {
      "cell_type": "markdown",
      "metadata": {
        "id": "WTWmaHwsL0th"
      },
      "source": [
        "## Compiling the network\r\n",
        "The optimizer that is used is the **Stochastic Gradient Descent** or, as displayed here, adam. The loss is binary as the final outcome is either a 1, has survived or 0, has not survived. Accuracy is used as a metric to evaluate the performance of the model."
      ]
    },
    {
      "cell_type": "code",
      "metadata": {
        "id": "6FH22YPRL3-W"
      },
      "source": [
        "nn.compile(optimizer='adam', loss='binary_crossentropy', metrics=['accuracy'])"
      ],
      "execution_count": 12,
      "outputs": []
    },
    {
      "cell_type": "markdown",
      "metadata": {
        "id": "dkpVxJQeMFMu"
      },
      "source": [
        "## Fitting the network to the training set"
      ]
    },
    {
      "cell_type": "code",
      "metadata": {
        "colab": {
          "base_uri": "https://localhost:8080/"
        },
        "id": "YIgSnJLtMKp_",
        "outputId": "4205f4a2-612b-4512-ab30-169689f1e497"
      },
      "source": [
        "nn.fit(X_train, y_train, batch_size=32, epochs=24)"
      ],
      "execution_count": 13,
      "outputs": [
        {
          "output_type": "stream",
          "text": [
            "Epoch 1/24\n",
            "22/22 [==============================] - 1s 5ms/step - loss: 0.6315 - accuracy: 0.6049\n",
            "Epoch 2/24\n",
            "22/22 [==============================] - 0s 4ms/step - loss: 0.5124 - accuracy: 0.7943\n",
            "Epoch 3/24\n",
            "22/22 [==============================] - 0s 4ms/step - loss: 0.4897 - accuracy: 0.7916\n",
            "Epoch 4/24\n",
            "22/22 [==============================] - 0s 4ms/step - loss: 0.4312 - accuracy: 0.8255\n",
            "Epoch 5/24\n",
            "22/22 [==============================] - 0s 4ms/step - loss: 0.4265 - accuracy: 0.8105\n",
            "Epoch 6/24\n",
            "22/22 [==============================] - 0s 4ms/step - loss: 0.4180 - accuracy: 0.8037\n",
            "Epoch 7/24\n",
            "22/22 [==============================] - 0s 4ms/step - loss: 0.4135 - accuracy: 0.8117\n",
            "Epoch 8/24\n",
            "22/22 [==============================] - 0s 4ms/step - loss: 0.4086 - accuracy: 0.8155\n",
            "Epoch 9/24\n",
            "22/22 [==============================] - 0s 3ms/step - loss: 0.3759 - accuracy: 0.8364\n",
            "Epoch 10/24\n",
            "22/22 [==============================] - 0s 4ms/step - loss: 0.3478 - accuracy: 0.8432\n",
            "Epoch 11/24\n",
            "22/22 [==============================] - 0s 4ms/step - loss: 0.3905 - accuracy: 0.8251\n",
            "Epoch 12/24\n",
            "22/22 [==============================] - 0s 4ms/step - loss: 0.4240 - accuracy: 0.8219\n",
            "Epoch 13/24\n",
            "22/22 [==============================] - 0s 4ms/step - loss: 0.3454 - accuracy: 0.8435\n",
            "Epoch 14/24\n",
            "22/22 [==============================] - 0s 4ms/step - loss: 0.3474 - accuracy: 0.8492\n",
            "Epoch 15/24\n",
            "22/22 [==============================] - 0s 4ms/step - loss: 0.3266 - accuracy: 0.8685\n",
            "Epoch 16/24\n",
            "22/22 [==============================] - 0s 4ms/step - loss: 0.3710 - accuracy: 0.8473\n",
            "Epoch 17/24\n",
            "22/22 [==============================] - 0s 4ms/step - loss: 0.3727 - accuracy: 0.8428\n",
            "Epoch 18/24\n",
            "22/22 [==============================] - 0s 4ms/step - loss: 0.3376 - accuracy: 0.8429\n",
            "Epoch 19/24\n",
            "22/22 [==============================] - 0s 4ms/step - loss: 0.3320 - accuracy: 0.8506\n",
            "Epoch 20/24\n",
            "22/22 [==============================] - 0s 4ms/step - loss: 0.3407 - accuracy: 0.8545\n",
            "Epoch 21/24\n",
            "22/22 [==============================] - 0s 4ms/step - loss: 0.3169 - accuracy: 0.8694\n",
            "Epoch 22/24\n",
            "22/22 [==============================] - 0s 4ms/step - loss: 0.3456 - accuracy: 0.8504\n",
            "Epoch 23/24\n",
            "22/22 [==============================] - 0s 4ms/step - loss: 0.3218 - accuracy: 0.8694\n",
            "Epoch 24/24\n",
            "22/22 [==============================] - 0s 4ms/step - loss: 0.3448 - accuracy: 0.8592\n"
          ],
          "name": "stdout"
        },
        {
          "output_type": "execute_result",
          "data": {
            "text/plain": [
              "<tensorflow.python.keras.callbacks.History at 0x7f880110e6d8>"
            ]
          },
          "metadata": {
            "tags": []
          },
          "execution_count": 13
        }
      ]
    },
    {
      "cell_type": "markdown",
      "metadata": {
        "id": "6IRbV1uWQJT0"
      },
      "source": [
        "### **Base Case Record**\r\n",
        "\r\n",
        "\r\n",
        "```\r\n",
        "loss: 0.2990 - accuracy: 0.8731\r\n",
        "```\r\n",
        "\r\n"
      ]
    },
    {
      "cell_type": "markdown",
      "metadata": {
        "id": "XTazGjPTRWKq"
      },
      "source": [
        "## A test for the performance\r\n",
        "Rather than using a **confusion_matrix** we will instead use matplotlib to physically see the **Eucledian** distance between the predictions."
      ]
    },
    {
      "cell_type": "code",
      "metadata": {
        "id": "JXQxG-KQaGk8"
      },
      "source": [
        "# Getting the predicted values\r\n",
        "y_pred = nn.predict(X_test)\r\n",
        "\r\n",
        "# Processing the values if (values > 0.7)\r\n",
        "for i in range(0, len(y_pred)):\r\n",
        "  if y_pred[i] >= 0.7:\r\n",
        "    y_pred[i] = 1\r\n",
        "  else:\r\n",
        "    y_pred[i] = 0"
      ],
      "execution_count": 14,
      "outputs": []
    },
    {
      "cell_type": "markdown",
      "metadata": {
        "id": "n6bJRggUin55"
      },
      "source": [
        "## Plotting the predicted and actual value\r\n",
        "Below is the graph plot of the performance\r\n",
        "\r\n",
        "\r\n",
        "---\r\n",
        "\r\n",
        "\r\n",
        "![image.png](data:image/png;base64,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)"
      ]
    },
    {
      "cell_type": "markdown",
      "metadata": {
        "id": "WXVt-4NOjQMV"
      },
      "source": [
        "# **Predicting The Result**"
      ]
    },
    {
      "cell_type": "markdown",
      "metadata": {
        "id": "ZAi78WvxjWcN"
      },
      "source": [
        ""
      ]
    }
  ]
}