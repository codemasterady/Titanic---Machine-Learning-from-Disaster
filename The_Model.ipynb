{
  "nbformat": 4,
  "nbformat_minor": 0,
  "metadata": {
    "colab": {
      "name": "The_Model.ipynb",
      "provenance": [],
      "collapsed_sections": [],
      "toc_visible": true
    },
    "kernelspec": {
      "name": "python3",
      "display_name": "Python 3"
    }
  },
  "cells": [
    {
      "cell_type": "markdown",
      "metadata": {
        "id": "bU-TRF6DsAJw"
      },
      "source": [
        "# **Importing The Essential Libraries**\r\n",
        "We will be using **Artificial Neural Networks** in this project and tune the parameters as we go along the **scenarios** in order to come up with the most optimal model, with the highest validation accuracy derived from a **train-test split** from the training set. I have imported \r\n",
        "\r\n",
        "| Library      | Usage |\r\n",
        "| ----------- | ----------- |\r\n",
        "| TensorFlow     | To work with neural networks       |\r\n",
        "| NumPy   | To work with arrays        |\r\n",
        "| Pandas   | To extract the data from the dataset        |\r\n",
        "| MatPlotLib   | To plot the performance of the model        |"
      ]
    },
    {
      "cell_type": "code",
      "metadata": {
        "id": "4M7yH_uptbRx"
      },
      "source": [
        "import tensorflow as tf\r\n",
        "import numpy as np\r\n",
        "import pandas as pd\r\n",
        "import matplotlib.pyplot as plt"
      ],
      "execution_count": 1,
      "outputs": []
    },
    {
      "cell_type": "markdown",
      "metadata": {
        "id": "UXxYTpYmpnrR"
      },
      "source": [
        "# **How I Will Approach This Problem**\r\n",
        "On reading the description, it is very clear that we must predict who are the **people most likely to survive**. And we are given these variables.\r\n",
        "\r\n",
        "## Dependent Variables\r\n",
        "\r\n",
        "* Passenger Id\r\n",
        "* A proxy for socio-economic status (SES) (class)\r\n",
        "* Name\r\n",
        "* Sex\r\n",
        "* Age\r\n",
        "* Traveled with  sibling or spouse\r\n",
        "* Traveled with  parent or child\r\n",
        "* Ticket\r\n",
        "* Fair\r\n",
        "* Cabin No.\r\n",
        "* Embarked\r\n",
        "\r\n",
        "# Independent Variable\r\n",
        "* Survived\r\n",
        "\r\n",
        "\r\n",
        "\r\n",
        "### Here are the **dependent** variables I think are necessary.\r\n",
        "* Passenger Id\r\n",
        "* A proxy for socio-economic status (SES) (class)\r\n",
        "* Sex\r\n",
        "* Age\r\n",
        "* Traveled with  sibling or spouse\r\n",
        "* Traveled with  parent or child\r\n",
        "* Cabin No."
      ]
    },
    {
      "cell_type": "markdown",
      "metadata": {
        "id": "YzYv5Cdytux1"
      },
      "source": [
        "# **About The Data**\r\n",
        "Now that we have mentioned the approach that we would be taking in order for me to get the most optimal result, now let me explain how we would interpret the data. Firstly, let's get the data from the directory."
      ]
    },
    {
      "cell_type": "code",
      "metadata": {
        "id": "JSWiV2Xmuc14"
      },
      "source": [
        "dataset = pd.read_csv(\"train.csv\")"
      ],
      "execution_count": 2,
      "outputs": []
    },
    {
      "cell_type": "markdown",
      "metadata": {
        "id": "ug5B3oZBulG7"
      },
      "source": [
        "Now that we have the data, let's preprocess the data into something that can be fed into a neural network. Remember, it is very important to scale the data before feeding the data into the network."
      ]
    },
    {
      "cell_type": "markdown",
      "metadata": {
        "id": "k4AlQNVQxeLJ"
      },
      "source": [
        "## Extracting All The Specific Data Fields"
      ]
    },
    {
      "cell_type": "code",
      "metadata": {
        "id": "CLx3bVp8xmsi"
      },
      "source": [
        "# All are type NumPy array (_s1 means scenario 1 or A)\r\n",
        "passenger_id_s1 = dataset[\"PassengerId\"].values\r\n",
        "p_class_s1 = dataset[\"Pclass\"].values\r\n",
        "sex_s1 = dataset[\"Sex\"].values\r\n",
        "age_s1 = dataset[\"Age\"].values\r\n",
        "sib_sp_s1 = dataset[\"SibSp\"].values\r\n",
        "par_ch_s1 = dataset[\"Parch\"].values\r\n",
        "cabin_no_s1 = dataset[\"Cabin\"].values"
      ],
      "execution_count": 3,
      "outputs": []
    },
    {
      "cell_type": "markdown",
      "metadata": {
        "id": "PUw2Sor_vAAp"
      },
      "source": [
        "## Data Preprocessing\r\n",
        "As discussed earlier, here are the variables I think are necessary:\r\n",
        "* Passenger Id\r\n",
        "* A proxy for socio-economic status (SES) (class)\r\n",
        "* Sex\r\n",
        "* Age\r\n",
        "* Traveled with  sibling or spouse\r\n",
        "* Traveled with  parent or child\r\n",
        "* Cabin No.\r\n",
        "\r\n",
        "Now let's discuss how we are going to convert the data into a more optimal format for the neural network.\r\n",
        "\r\n",
        "\r\n",
        "---\r\n",
        "\r\n",
        "1. Passenger Id (int): No change required.\r\n",
        "2. Class (int): No change required.\r\n",
        "3. Sex (String): **Encoding** required.\r\n",
        "4. Age (float): No change required.\r\n",
        "5. Traveled with sibling or spouse (bool): No change required.\r\n",
        "6. Traveled with parent or child (bool): No change required.\r\n",
        "7. Cabin No (String): **Encoding** required.\r\n",
        "\r\n",
        "Let's execute this procedure step by step. But before we do, there are some libraries that have not been imported yet. Let's do that now."
      ]
    },
    {
      "cell_type": "code",
      "metadata": {
        "id": "4arPbCiFxGgj"
      },
      "source": [
        "from sklearn.preprocessing import LabelEncoder # The Encoder\r\n",
        "from sklearn.impute import SimpleImputer # Imputer"
      ],
      "execution_count": 4,
      "outputs": []
    },
    {
      "cell_type": "markdown",
      "metadata": {
        "id": "ApHeO70V1EB3"
      },
      "source": [
        "> The Imputer was imported as some values are N/A. These values will be replaced by an ***XXX***.\r\n",
        "\r\n",
        "> Age recieved it's own imputer as some values were **nan** in the dataset. These values will be replaced with a **median** value.\r\n",
        "\r\n",
        "> Cabin No was also given an imputer & an encoder.\r\n",
        "\r\n",
        "Now let's execute"
      ]
    },
    {
      "cell_type": "code",
      "metadata": {
        "id": "AOtDdMhi1Ji4"
      },
      "source": [
        "# Encoding the Sex\r\n",
        "lbl_encoder_s1 = LabelEncoder()\r\n",
        "sex_s1 = lbl_encoder_s1.fit_transform(sex_s1)\r\n",
        "# Imputing the missing values\r\n",
        "cabin_no_s1 = cabin_no_s1.reshape(-1, 1)\r\n",
        "imputer_s1 = SimpleImputer(strategy = \"constant\", fill_value = \"XXX\")\r\n",
        "imputer_age_s1 = SimpleImputer(strategy=\"median\")\r\n",
        "cabin_no_s1 = imputer_s1.fit_transform(cabin_no_s1)\r\n",
        "age_s1 = imputer_age_s1.fit_transform(age_s1.reshape(-1, 1))\r\n",
        "# Encoding & Imputing the Cabin No\r\n",
        "lbl_encoder_cabin_no_s1 = LabelEncoder()\r\n",
        "impute_cabin_no_s1 = SimpleImputer(strategy = \"constant\", fill_value = \"XXX\")\r\n",
        "cabin_no_s1 = impute_cabin_no_s1.fit_transform(cabin_no_s1)\r\n",
        "cabin_no_s1 = lbl_encoder_cabin_no_s1.fit_transform(cabin_no_s1.ravel())"
      ],
      "execution_count": 5,
      "outputs": []
    },
    {
      "cell_type": "markdown",
      "metadata": {
        "id": "Jet1mK_m8ZQt"
      },
      "source": [
        "### Scaling\r\n",
        "Using the **Standard Scaler** method from the SkLearn library I can standardize all the values in order for it to be uniform, normalized for it to be more optimal when fed into the neural network. Before scaling we must combine all the NumPy arrays into one single array.\r\n",
        "\r\n",
        "\r\n",
        "\r\n"
      ]
    },
    {
      "cell_type": "code",
      "metadata": {
        "id": "1Qh4PoG49idi"
      },
      "source": [
        "# Reshaping\r\n",
        "passenger_id_s1 = passenger_id_s1.reshape(-1, 1)\r\n",
        "p_class_s1 = p_class_s1.reshape(-1, 1)\r\n",
        "sex_s1 = sex_s1.reshape(-1, 1)\r\n",
        "age_s1 = age_s1.reshape(-1, 1)\r\n",
        "sib_sp_s1 = sib_sp_s1.reshape(-1, 1)\r\n",
        "par_ch_s1 = par_ch_s1.reshape(-1, 1)\r\n",
        "cabin_no_s1 = cabin_no_s1.reshape(-1, 1)\r\n",
        "# Merging \r\n",
        "input_s1 = np.concatenate((passenger_id_s1, p_class_s1, sex_s1, age_s1, sib_sp_s1, par_ch_s1, cabin_no_s1), axis=1)"
      ],
      "execution_count": 6,
      "outputs": []
    },
    {
      "cell_type": "code",
      "metadata": {
        "id": "EUyus0Rg9G_2"
      },
      "source": [
        "# Importing the Scaler\r\n",
        "from sklearn.preprocessing import StandardScaler\r\n",
        "scaler_s1 = StandardScaler()\r\n",
        "input_s1 = scaler_s1.fit_transform(input_s1)"
      ],
      "execution_count": 7,
      "outputs": []
    },
    {
      "cell_type": "markdown",
      "metadata": {
        "id": "GteUnp8lG9a7"
      },
      "source": [
        "# **Finalizing The Dependent & Independent Values**"
      ]
    },
    {
      "cell_type": "markdown",
      "metadata": {
        "id": "fOG2s3LaHGvL"
      },
      "source": [
        "## Declaring the dependent & independent values"
      ]
    },
    {
      "cell_type": "code",
      "metadata": {
        "id": "wkTlUIlDHLer"
      },
      "source": [
        "dep_input_s1 = input_s1\r\n",
        "indep_input_s1 = dataset['Survived'].values.reshape(-1, 1)"
      ],
      "execution_count": 8,
      "outputs": []
    },
    {
      "cell_type": "markdown",
      "metadata": {
        "id": "N3mZjF-RI98-"
      },
      "source": [
        "## Splitting the data into the training & test set\r\n",
        "As this data doesn't have any validation set, we will be splitting the data into the **training** and **test** set to evaluate its accuracy. The library to do this is the train_test_split. As the data contains **831 values**, I will split the test size to be about 200 which is roughly **24%**."
      ]
    },
    {
      "cell_type": "code",
      "metadata": {
        "id": "_xO9shMKJceo"
      },
      "source": [
        "from sklearn.model_selection import train_test_split\r\n",
        "X_train, X_test, y_train, y_test = train_test_split(dep_input_s1, indep_input_s1, test_size=0.24)"
      ],
      "execution_count": 9,
      "outputs": []
    },
    {
      "cell_type": "markdown",
      "metadata": {
        "id": "TAID7wHwFnqs"
      },
      "source": [
        "# **The Neural Network**\r\n",
        "In this section, we will be looking at the architecture of the neural network used to derive a prediction based on input data. We will also do **parameter tuning** to further enhance our accuracy throughout the project."
      ]
    },
    {
      "cell_type": "markdown",
      "metadata": {
        "id": "TwvRoCzrGe8M"
      },
      "source": [
        "## Initializing the neural network"
      ]
    },
    {
      "cell_type": "code",
      "metadata": {
        "id": "wD9vsZT9GdsH"
      },
      "source": [
        "nn = tf.keras.models.Sequential()"
      ],
      "execution_count": 10,
      "outputs": []
    },
    {
      "cell_type": "markdown",
      "metadata": {
        "id": "V-JWY4oKGqPw"
      },
      "source": [
        "## The fully connected layers"
      ]
    },
    {
      "cell_type": "code",
      "metadata": {
        "id": "zCQG49AxGugW"
      },
      "source": [
        "nn.add(tf.keras.layers.Dense(units=120, activation='relu'))\r\n",
        "nn.add(tf.keras.layers.Dense(units=60, activation='relu'))\r\n",
        "nn.add(tf.keras.layers.Dense(units=30, activation='relu'))\r\n",
        "nn.add(tf.keras.layers.Dense(units=15, activation='relu'))\r\n",
        "nn.add(tf.keras.layers.Dense(units=1, activation='sigmoid'))"
      ],
      "execution_count": 11,
      "outputs": []
    },
    {
      "cell_type": "markdown",
      "metadata": {
        "id": "WTWmaHwsL0th"
      },
      "source": [
        "## Compiling the network\r\n",
        "The optimizer that is used is the **Stochastic Gradient Descent** or, as displayed here, adam. The loss is binary as the final outcome is either a 1, has survived or 0, has not survived. Accuracy is used as a metric to evaluate the performance of the model."
      ]
    },
    {
      "cell_type": "code",
      "metadata": {
        "id": "6FH22YPRL3-W"
      },
      "source": [
        "nn.compile(optimizer='adam', loss='binary_crossentropy', metrics=['accuracy'])"
      ],
      "execution_count": 12,
      "outputs": []
    },
    {
      "cell_type": "markdown",
      "metadata": {
        "id": "dkpVxJQeMFMu"
      },
      "source": [
        "## Fitting the network to the training set"
      ]
    },
    {
      "cell_type": "code",
      "metadata": {
        "colab": {
          "base_uri": "https://localhost:8080/"
        },
        "id": "YIgSnJLtMKp_",
        "outputId": "f87bac0c-85de-4bc0-ac95-c5c02b7ecf21"
      },
      "source": [
        "nn.fit(X_train, y_train, batch_size=32, epochs=50)"
      ],
      "execution_count": 13,
      "outputs": [
        {
          "output_type": "stream",
          "text": [
            "Epoch 1/50\n",
            "22/22 [==============================] - 1s 2ms/step - loss: 0.6943 - accuracy: 0.5071\n",
            "Epoch 2/50\n",
            "22/22 [==============================] - 0s 2ms/step - loss: 0.5503 - accuracy: 0.7983\n",
            "Epoch 3/50\n",
            "22/22 [==============================] - 0s 2ms/step - loss: 0.4407 - accuracy: 0.8055\n",
            "Epoch 4/50\n",
            "22/22 [==============================] - 0s 1ms/step - loss: 0.4001 - accuracy: 0.8251\n",
            "Epoch 5/50\n",
            "22/22 [==============================] - 0s 2ms/step - loss: 0.3892 - accuracy: 0.8355\n",
            "Epoch 6/50\n",
            "22/22 [==============================] - 0s 2ms/step - loss: 0.3686 - accuracy: 0.8633\n",
            "Epoch 7/50\n",
            "22/22 [==============================] - 0s 2ms/step - loss: 0.3417 - accuracy: 0.8751\n",
            "Epoch 8/50\n",
            "22/22 [==============================] - 0s 2ms/step - loss: 0.3970 - accuracy: 0.8348\n",
            "Epoch 9/50\n",
            "22/22 [==============================] - 0s 2ms/step - loss: 0.3510 - accuracy: 0.8476\n",
            "Epoch 10/50\n",
            "22/22 [==============================] - 0s 1ms/step - loss: 0.3755 - accuracy: 0.8317\n",
            "Epoch 11/50\n",
            "22/22 [==============================] - 0s 2ms/step - loss: 0.3486 - accuracy: 0.8519\n",
            "Epoch 12/50\n",
            "22/22 [==============================] - 0s 2ms/step - loss: 0.3413 - accuracy: 0.8512\n",
            "Epoch 13/50\n",
            "22/22 [==============================] - 0s 2ms/step - loss: 0.3532 - accuracy: 0.8531\n",
            "Epoch 14/50\n",
            "22/22 [==============================] - 0s 2ms/step - loss: 0.3307 - accuracy: 0.8625\n",
            "Epoch 15/50\n",
            "22/22 [==============================] - 0s 2ms/step - loss: 0.3814 - accuracy: 0.8521\n",
            "Epoch 16/50\n",
            "22/22 [==============================] - 0s 2ms/step - loss: 0.3728 - accuracy: 0.8475\n",
            "Epoch 17/50\n",
            "22/22 [==============================] - 0s 2ms/step - loss: 0.3626 - accuracy: 0.8368\n",
            "Epoch 18/50\n",
            "22/22 [==============================] - 0s 2ms/step - loss: 0.3447 - accuracy: 0.8503\n",
            "Epoch 19/50\n",
            "22/22 [==============================] - 0s 2ms/step - loss: 0.3418 - accuracy: 0.8632\n",
            "Epoch 20/50\n",
            "22/22 [==============================] - 0s 2ms/step - loss: 0.3195 - accuracy: 0.8698\n",
            "Epoch 21/50\n",
            "22/22 [==============================] - 0s 2ms/step - loss: 0.3410 - accuracy: 0.8548\n",
            "Epoch 22/50\n",
            "22/22 [==============================] - 0s 2ms/step - loss: 0.3342 - accuracy: 0.8557\n",
            "Epoch 23/50\n",
            "22/22 [==============================] - 0s 2ms/step - loss: 0.3488 - accuracy: 0.8590\n",
            "Epoch 24/50\n",
            "22/22 [==============================] - 0s 2ms/step - loss: 0.3151 - accuracy: 0.8813\n",
            "Epoch 25/50\n",
            "22/22 [==============================] - 0s 2ms/step - loss: 0.3490 - accuracy: 0.8512\n",
            "Epoch 26/50\n",
            "22/22 [==============================] - 0s 2ms/step - loss: 0.3245 - accuracy: 0.8751\n",
            "Epoch 27/50\n",
            "22/22 [==============================] - 0s 2ms/step - loss: 0.3277 - accuracy: 0.8642\n",
            "Epoch 28/50\n",
            "22/22 [==============================] - 0s 2ms/step - loss: 0.3148 - accuracy: 0.8682\n",
            "Epoch 29/50\n",
            "22/22 [==============================] - 0s 1ms/step - loss: 0.3115 - accuracy: 0.8711\n",
            "Epoch 30/50\n",
            "22/22 [==============================] - 0s 1ms/step - loss: 0.2933 - accuracy: 0.8788\n",
            "Epoch 31/50\n",
            "22/22 [==============================] - 0s 2ms/step - loss: 0.3019 - accuracy: 0.8869\n",
            "Epoch 32/50\n",
            "22/22 [==============================] - 0s 2ms/step - loss: 0.3018 - accuracy: 0.8839\n",
            "Epoch 33/50\n",
            "22/22 [==============================] - 0s 2ms/step - loss: 0.3322 - accuracy: 0.8659\n",
            "Epoch 34/50\n",
            "22/22 [==============================] - 0s 2ms/step - loss: 0.3227 - accuracy: 0.8671\n",
            "Epoch 35/50\n",
            "22/22 [==============================] - 0s 2ms/step - loss: 0.3050 - accuracy: 0.8712\n",
            "Epoch 36/50\n",
            "22/22 [==============================] - 0s 2ms/step - loss: 0.2961 - accuracy: 0.8726\n",
            "Epoch 37/50\n",
            "22/22 [==============================] - 0s 2ms/step - loss: 0.3210 - accuracy: 0.8610\n",
            "Epoch 38/50\n",
            "22/22 [==============================] - 0s 2ms/step - loss: 0.2933 - accuracy: 0.8812\n",
            "Epoch 39/50\n",
            "22/22 [==============================] - 0s 2ms/step - loss: 0.2895 - accuracy: 0.8816\n",
            "Epoch 40/50\n",
            "22/22 [==============================] - 0s 2ms/step - loss: 0.2842 - accuracy: 0.8878\n",
            "Epoch 41/50\n",
            "22/22 [==============================] - 0s 2ms/step - loss: 0.2946 - accuracy: 0.8779\n",
            "Epoch 42/50\n",
            "22/22 [==============================] - 0s 2ms/step - loss: 0.3146 - accuracy: 0.8583\n",
            "Epoch 43/50\n",
            "22/22 [==============================] - 0s 2ms/step - loss: 0.2817 - accuracy: 0.8922\n",
            "Epoch 44/50\n",
            "22/22 [==============================] - 0s 2ms/step - loss: 0.2502 - accuracy: 0.9087\n",
            "Epoch 45/50\n",
            "22/22 [==============================] - 0s 2ms/step - loss: 0.2679 - accuracy: 0.9053\n",
            "Epoch 46/50\n",
            "22/22 [==============================] - 0s 2ms/step - loss: 0.2736 - accuracy: 0.9010\n",
            "Epoch 47/50\n",
            "22/22 [==============================] - 0s 2ms/step - loss: 0.2730 - accuracy: 0.8846\n",
            "Epoch 48/50\n",
            "22/22 [==============================] - 0s 2ms/step - loss: 0.3237 - accuracy: 0.8705\n",
            "Epoch 49/50\n",
            "22/22 [==============================] - 0s 2ms/step - loss: 0.2967 - accuracy: 0.8658\n",
            "Epoch 50/50\n",
            "22/22 [==============================] - 0s 2ms/step - loss: 0.2760 - accuracy: 0.8843\n"
          ],
          "name": "stdout"
        },
        {
          "output_type": "execute_result",
          "data": {
            "text/plain": [
              "<tensorflow.python.keras.callbacks.History at 0x7fb5972ed358>"
            ]
          },
          "metadata": {
            "tags": []
          },
          "execution_count": 13
        }
      ]
    },
    {
      "cell_type": "markdown",
      "metadata": {
        "id": "6IRbV1uWQJT0"
      },
      "source": [
        "### **Base Case Record**\r\n",
        "\r\n",
        "\r\n",
        "```\r\n",
        "loss: 0.2990 - accuracy: 0.8731\r\n",
        "```\r\n",
        "\r\n"
      ]
    },
    {
      "cell_type": "markdown",
      "metadata": {
        "id": "XTazGjPTRWKq"
      },
      "source": [
        "## A test for the performance\r\n",
        "Rather than using a **confusion_matrix** we will instead use matplotlib to physically see the **Eucledian** distance between the predictions."
      ]
    },
    {
      "cell_type": "code",
      "metadata": {
        "colab": {
          "base_uri": "https://localhost:8080/",
          "height": 279
        },
        "id": "ceyLRcOoRqJg",
        "outputId": "e028461a-7ad4-4fcc-f147-0557fea55768"
      },
      "source": [
        "# Getting the predicted values\r\n",
        "y_pred = nn.predict(X_test)\r\n",
        "\r\n",
        "# Plotting the predicted and actual value\r\n",
        "plt.xlabel(\"% Chance\")\r\n",
        "plt.plot((y_pred[:30]), color='red', label=\"Predicted\")\r\n",
        "plt.plot(y_test[:30], color='blue', label=\"Actual\")\r\n",
        "plt.legend()\r\n",
        "plt.show()"
      ],
      "execution_count": 14,
      "outputs": [
        {
          "output_type": "display_data",
          "data": {
            "image/png": "[encoded data removed]",
            "text/plain": [
              "<Figure size 432x288 with 1 Axes>"
            ]
          },
          "metadata": {
            "tags": [],
            "needs_background": "light"
          }
        }
      ]
    }
  ]
}